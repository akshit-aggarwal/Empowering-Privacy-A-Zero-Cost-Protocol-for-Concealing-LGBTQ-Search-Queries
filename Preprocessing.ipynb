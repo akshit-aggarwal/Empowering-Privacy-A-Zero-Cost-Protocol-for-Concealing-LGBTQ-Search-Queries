{
 "cells": [
  {
   "cell_type": "code",
   "execution_count": 2,
   "id": "e4f1563a-1a80-4979-88d3-8f0cef4cf030",
   "metadata": {},
   "outputs": [
    {
     "name": "stdout",
     "output_type": "stream",
     "text": [
      "Duplicates removed and unique links saved to 'unique_links.txt.\n"
     ]
    }
   ],
   "source": [
    "with open('input.txt', 'r') as file:\n",
    "    links = file.readlines()\n",
    "\n",
    "# Step 2: Remove duplicates by converting the list to a set\n",
    "unique_links = set(links)\n",
    "\n",
    "# Step 3: Write the unique links back to a new file\n",
    "with open('unique_links.txt', 'w') as file:\n",
    "    for link in sorted(unique_links):\n",
    "        file.write(link)\n",
    "\n",
    "print(\"Duplicates removed and unique links saved to 'unique_links.txt.\")"
   ]
  },
  {
   "cell_type": "code",
   "execution_count": 1,
   "id": "e659983b-567a-45a9-92d6-e4700de65025",
   "metadata": {},
   "outputs": [
    {
     "name": "stdout",
     "output_type": "stream",
     "text": [
      "Collecting Flask\n",
      "  Downloading flask-3.0.3-py3-none-any.whl.metadata (3.2 kB)\n",
      "Collecting Werkzeug>=3.0.0 (from Flask)\n",
      "  Downloading werkzeug-3.0.4-py3-none-any.whl.metadata (3.7 kB)\n",
      "Requirement already satisfied: Jinja2>=3.1.2 in /home/rs/akshit.aggarwal/anaconda3/envs/myenv/lib/python3.9/site-packages (from Flask) (3.1.4)\n",
      "Collecting itsdangerous>=2.1.2 (from Flask)\n",
      "  Downloading itsdangerous-2.2.0-py3-none-any.whl.metadata (1.9 kB)\n",
      "Collecting click>=8.1.3 (from Flask)\n",
      "  Using cached click-8.1.7-py3-none-any.whl.metadata (3.0 kB)\n",
      "Collecting blinker>=1.6.2 (from Flask)\n",
      "  Downloading blinker-1.8.2-py3-none-any.whl.metadata (1.6 kB)\n",
      "Requirement already satisfied: importlib-metadata>=3.6.0 in /home/rs/akshit.aggarwal/anaconda3/envs/myenv/lib/python3.9/site-packages (from Flask) (7.0.1)\n",
      "Requirement already satisfied: zipp>=0.5 in /home/rs/akshit.aggarwal/anaconda3/envs/myenv/lib/python3.9/site-packages (from importlib-metadata>=3.6.0->Flask) (3.17.0)\n",
      "Requirement already satisfied: MarkupSafe>=2.0 in /home/rs/akshit.aggarwal/anaconda3/envs/myenv/lib/python3.9/site-packages (from Jinja2>=3.1.2->Flask) (2.1.3)\n",
      "Downloading flask-3.0.3-py3-none-any.whl (101 kB)\n",
      "Downloading blinker-1.8.2-py3-none-any.whl (9.5 kB)\n",
      "Using cached click-8.1.7-py3-none-any.whl (97 kB)\n",
      "Downloading itsdangerous-2.2.0-py3-none-any.whl (16 kB)\n",
      "Downloading werkzeug-3.0.4-py3-none-any.whl (227 kB)\n",
      "Installing collected packages: Werkzeug, itsdangerous, click, blinker, Flask\n",
      "Successfully installed Flask-3.0.3 Werkzeug-3.0.4 blinker-1.8.2 click-8.1.7 itsdangerous-2.2.0\n",
      "Collecting pyngrok\n",
      "  Downloading pyngrok-7.2.0-py3-none-any.whl.metadata (7.4 kB)\n",
      "Requirement already satisfied: PyYAML>=5.1 in /home/rs/akshit.aggarwal/anaconda3/envs/myenv/lib/python3.9/site-packages (from pyngrok) (6.0.1)\n",
      "Downloading pyngrok-7.2.0-py3-none-any.whl (22 kB)\n",
      "Installing collected packages: pyngrok\n",
      "Successfully installed pyngrok-7.2.0\n"
     ]
    }
   ],
   "source": [
    "!pip install Flask\n",
    "!pip install pyngrok\n"
   ]
  },
  {
   "cell_type": "code",
   "execution_count": 3,
   "id": "219fa2a3-7097-49c8-8cd2-c64898fd7a46",
   "metadata": {},
   "outputs": [],
   "source": [
    "from flask import Flask, jsonify, request\n",
    "\n",
    "app = Flask(__name__)\n",
    "\n",
    "# Sample in-memory data store\n",
    "weblinks = [\n",
    "    {\"id\": 1, \"url\": \"https://en.wikipedia.org/wiki/(300163)_2006_VW139\", \"bin\": \"Bin0\", \"location\": \"Loc1\", \"category_vector\": [0, 0, 3, 0, 5]},\n",
    "    {\"id\": 2, \"url\": \"https://en.wikipedia.org/wiki/.dwg\", \"bin\": \"Bin3\", \"location\": \"Loc4\", \"category_vector\": [1, 0, 0, 0, 0]}\n",
    "]\n",
    "\n",
    "@app.route('/weblinks', methods=['GET'])\n",
    "def get_weblinks():\n",
    "    category_vector = request.args.getlist('category_vector')\n",
    "    if category_vector:\n",
    "        # Convert to list of integers\n",
    "        category_vector = list(map(int, category_vector))\n",
    "        result = [link for link in weblinks if link['category_vector'] == category_vector]\n",
    "    else:\n",
    "        result = weblinks\n",
    "    return jsonify(result)\n",
    "\n",
    "@app.route('/weblinks', methods=['POST'])\n",
    "def add_weblink():\n",
    "    new_weblink = request.json\n",
    "    weblinks.append(new_weblink)\n",
    "    return jsonify(new_weblink), 201\n"
   ]
  },
  {
   "cell_type": "code",
   "execution_count": 11,
   "id": "e3e89955-9c80-4de7-97bc-b84d83843208",
   "metadata": {},
   "outputs": [
    {
     "name": "stdout",
     "output_type": "stream",
     "text": [
      " * Serving Flask app '__main__'\n",
      " * Debug mode: off\n"
     ]
    },
    {
     "name": "stderr",
     "output_type": "stream",
     "text": [
      "Address already in use\n",
      "Port 8000 is in use by another program. Either identify and stop that program, or start the server with a different port.\n"
     ]
    }
   ],
   "source": [
    "from threading import Thread\n",
    "def run():\n",
    "    app.run(port=8000)\n",
    "# Start the Flask app in a separate thread\n",
    "thread = Thread(target=run)\n",
    "thread.start()"
   ]
  },
  {
   "cell_type": "code",
   "execution_count": 6,
   "id": "02202939-6609-4fcb-abd6-0dcb75853ade",
   "metadata": {},
   "outputs": [
    {
     "name": "stdout",
     "output_type": "stream",
     "text": [
      "Requirement already satisfied: flask in /home/rs/akshit.aggarwal/anaconda3/envs/myenv/lib/python3.9/site-packages (3.0.3)\n",
      "Requirement already satisfied: pyngrok in /home/rs/akshit.aggarwal/anaconda3/envs/myenv/lib/python3.9/site-packages (7.2.0)\n",
      "Requirement already satisfied: Werkzeug>=3.0.0 in /home/rs/akshit.aggarwal/anaconda3/envs/myenv/lib/python3.9/site-packages (from flask) (3.0.4)\n",
      "Requirement already satisfied: Jinja2>=3.1.2 in /home/rs/akshit.aggarwal/anaconda3/envs/myenv/lib/python3.9/site-packages (from flask) (3.1.4)\n",
      "Requirement already satisfied: itsdangerous>=2.1.2 in /home/rs/akshit.aggarwal/anaconda3/envs/myenv/lib/python3.9/site-packages (from flask) (2.2.0)\n",
      "Requirement already satisfied: click>=8.1.3 in /home/rs/akshit.aggarwal/anaconda3/envs/myenv/lib/python3.9/site-packages (from flask) (8.1.7)\n",
      "Requirement already satisfied: blinker>=1.6.2 in /home/rs/akshit.aggarwal/anaconda3/envs/myenv/lib/python3.9/site-packages (from flask) (1.8.2)\n",
      "Requirement already satisfied: importlib-metadata>=3.6.0 in /home/rs/akshit.aggarwal/anaconda3/envs/myenv/lib/python3.9/site-packages (from flask) (7.0.1)\n",
      "Requirement already satisfied: PyYAML>=5.1 in /home/rs/akshit.aggarwal/anaconda3/envs/myenv/lib/python3.9/site-packages (from pyngrok) (6.0.1)\n",
      "Requirement already satisfied: zipp>=0.5 in /home/rs/akshit.aggarwal/anaconda3/envs/myenv/lib/python3.9/site-packages (from importlib-metadata>=3.6.0->flask) (3.17.0)\n",
      "Requirement already satisfied: MarkupSafe>=2.0 in /home/rs/akshit.aggarwal/anaconda3/envs/myenv/lib/python3.9/site-packages (from Jinja2>=3.1.2->flask) (2.1.3)\n",
      "Note: you may need to restart the kernel to use updated packages.\n"
     ]
    }
   ],
   "source": [
    "pip install flask pyngrok"
   ]
  },
  {
   "cell_type": "code",
   "execution_count": 7,
   "id": "2c8fc2ab-b713-435f-8f6f-68b011b886a8",
   "metadata": {},
   "outputs": [
    {
     "name": "stdout",
     "output_type": "stream",
     "text": [
      "                                                                                                    \r"
     ]
    },
    {
     "name": "stderr",
     "output_type": "stream",
     "text": [
      "t=2024-10-01T23:21:58+0530 lvl=eror msg=\"failed to reconnect session\" obj=tunnels.session err=\"authentication failed: Usage of ngrok requires a verified account and authtoken.\\n\\nSign up for an account: https://dashboard.ngrok.com/signup\\nInstall your authtoken: https://dashboard.ngrok.com/get-started/your-authtoken\\r\\n\\r\\nERR_NGROK_4018\\r\\n\"\n",
      "t=2024-10-01T23:21:58+0530 lvl=eror msg=\"session closing\" obj=tunnels.session err=\"authentication failed: Usage of ngrok requires a verified account and authtoken.\\n\\nSign up for an account: https://dashboard.ngrok.com/signup\\nInstall your authtoken: https://dashboard.ngrok.com/get-started/your-authtoken\\r\\n\\r\\nERR_NGROK_4018\\r\\n\"\n",
      "t=2024-10-01T23:21:58+0530 lvl=eror msg=\"terminating with error\" obj=app err=\"authentication failed: Usage of ngrok requires a verified account and authtoken.\\n\\nSign up for an account: https://dashboard.ngrok.com/signup\\nInstall your authtoken: https://dashboard.ngrok.com/get-started/your-authtoken\\r\\n\\r\\nERR_NGROK_4018\\r\\n\"\n",
      "\n",
      "ERROR:  authentication failed: Usage of ngrok requires a verified account and authtoken.\n",
      "ERROR:  \n",
      "ERROR:  Sign up for an account: https://dashboard.ngrok.com/signup\n",
      "ERROR:  Install your authtoken: https://dashboard.ngrok.com/get-started/your-authtoken\n",
      "ERROR:  \n",
      "ERROR:  ERR_NGROK_4018\n",
      "ERROR:  https://ngrok.com/docs/errors/err_ngrok_4018\n",
      "ERROR:  \n",
      "t=2024-10-01T23:21:58+0530 lvl=crit msg=\"command failed\" err=\"authentication failed: Usage of ngrok requires a verified account and authtoken.\\n\\nSign up for an account: https://dashboard.ngrok.com/signup\\nInstall your authtoken: https://dashboard.ngrok.com/get-started/your-authtoken\\r\\n\\r\\nERR_NGROK_4018\\r\\n\"\n"
     ]
    },
    {
     "ename": "PyngrokNgrokError",
     "evalue": "The ngrok process errored on start: authentication failed: Usage of ngrok requires a verified account and authtoken.\\n\\nSign up for an account: https://dashboard.ngrok.com/signup\\nInstall your authtoken: https://dashboard.ngrok.com/get-started/your-authtoken\\r\\n\\r\\nERR_NGROK_4018\\r\\n.",
     "output_type": "error",
     "traceback": [
      "\u001b[0;31m---------------------------------------------------------------------------\u001b[0m",
      "\u001b[0;31mPyngrokNgrokError\u001b[0m                         Traceback (most recent call last)",
      "Cell \u001b[0;32mIn[7], line 4\u001b[0m\n\u001b[1;32m      1\u001b[0m \u001b[38;5;28;01mfrom\u001b[39;00m \u001b[38;5;21;01mpyngrok\u001b[39;00m \u001b[38;5;28;01mimport\u001b[39;00m ngrok\n\u001b[1;32m      3\u001b[0m \u001b[38;5;66;03m# Set up ngrok\u001b[39;00m\n\u001b[0;32m----> 4\u001b[0m public_url \u001b[38;5;241m=\u001b[39m \u001b[43mngrok\u001b[49m\u001b[38;5;241;43m.\u001b[39;49m\u001b[43mconnect\u001b[49m\u001b[43m(\u001b[49m\u001b[38;5;241;43m5000\u001b[39;49m\u001b[43m)\u001b[49m\n\u001b[1;32m      5\u001b[0m \u001b[38;5;28mprint\u001b[39m(\u001b[38;5;124mf\u001b[39m\u001b[38;5;124m\"\u001b[39m\u001b[38;5;124mPublic URL: \u001b[39m\u001b[38;5;132;01m{\u001b[39;00mpublic_url\u001b[38;5;132;01m}\u001b[39;00m\u001b[38;5;124m\"\u001b[39m)\n",
      "File \u001b[0;32m~/anaconda3/envs/myenv/lib/python3.9/site-packages/pyngrok/ngrok.py:316\u001b[0m, in \u001b[0;36mconnect\u001b[0;34m(addr, proto, name, pyngrok_config, **options)\u001b[0m\n\u001b[1;32m    312\u001b[0m             options[\u001b[38;5;124m\"\u001b[39m\u001b[38;5;124mbasic_auth\u001b[39m\u001b[38;5;124m\"\u001b[39m] \u001b[38;5;241m=\u001b[39m [auth]\n\u001b[1;32m    314\u001b[0m         options\u001b[38;5;241m.\u001b[39mpop(\u001b[38;5;124m\"\u001b[39m\u001b[38;5;124mauth\u001b[39m\u001b[38;5;124m\"\u001b[39m)\n\u001b[0;32m--> 316\u001b[0m api_url \u001b[38;5;241m=\u001b[39m \u001b[43mget_ngrok_process\u001b[49m\u001b[43m(\u001b[49m\u001b[43mpyngrok_config\u001b[49m\u001b[43m)\u001b[49m\u001b[38;5;241m.\u001b[39mapi_url\n\u001b[1;32m    318\u001b[0m logger\u001b[38;5;241m.\u001b[39mdebug(\u001b[38;5;124mf\u001b[39m\u001b[38;5;124m\"\u001b[39m\u001b[38;5;124mCreating tunnel with options: \u001b[39m\u001b[38;5;132;01m{\u001b[39;00moptions\u001b[38;5;132;01m}\u001b[39;00m\u001b[38;5;124m\"\u001b[39m)\n\u001b[1;32m    320\u001b[0m tunnel \u001b[38;5;241m=\u001b[39m NgrokTunnel(api_request(\u001b[38;5;124mf\u001b[39m\u001b[38;5;124m\"\u001b[39m\u001b[38;5;132;01m{\u001b[39;00mapi_url\u001b[38;5;132;01m}\u001b[39;00m\u001b[38;5;124m/api/tunnels\u001b[39m\u001b[38;5;124m\"\u001b[39m, method\u001b[38;5;241m=\u001b[39m\u001b[38;5;124m\"\u001b[39m\u001b[38;5;124mPOST\u001b[39m\u001b[38;5;124m\"\u001b[39m, data\u001b[38;5;241m=\u001b[39moptions,\n\u001b[1;32m    321\u001b[0m                                  timeout\u001b[38;5;241m=\u001b[39mpyngrok_config\u001b[38;5;241m.\u001b[39mrequest_timeout),\n\u001b[1;32m    322\u001b[0m                      pyngrok_config, api_url)\n",
      "File \u001b[0;32m~/anaconda3/envs/myenv/lib/python3.9/site-packages/pyngrok/ngrok.py:156\u001b[0m, in \u001b[0;36mget_ngrok_process\u001b[0;34m(pyngrok_config)\u001b[0m\n\u001b[1;32m    152\u001b[0m     pyngrok_config \u001b[38;5;241m=\u001b[39m conf\u001b[38;5;241m.\u001b[39mget_default()\n\u001b[1;32m    154\u001b[0m install_ngrok(pyngrok_config)\n\u001b[0;32m--> 156\u001b[0m \u001b[38;5;28;01mreturn\u001b[39;00m \u001b[43mprocess\u001b[49m\u001b[38;5;241;43m.\u001b[39;49m\u001b[43mget_process\u001b[49m\u001b[43m(\u001b[49m\u001b[43mpyngrok_config\u001b[49m\u001b[43m)\u001b[49m\n",
      "File \u001b[0;32m~/anaconda3/envs/myenv/lib/python3.9/site-packages/pyngrok/process.py:235\u001b[0m, in \u001b[0;36mget_process\u001b[0;34m(pyngrok_config)\u001b[0m\n\u001b[1;32m    232\u001b[0m \u001b[38;5;28;01mif\u001b[39;00m is_process_running(pyngrok_config\u001b[38;5;241m.\u001b[39mngrok_path):\n\u001b[1;32m    233\u001b[0m     \u001b[38;5;28;01mreturn\u001b[39;00m _current_processes[pyngrok_config\u001b[38;5;241m.\u001b[39mngrok_path]\n\u001b[0;32m--> 235\u001b[0m \u001b[38;5;28;01mreturn\u001b[39;00m \u001b[43m_start_process\u001b[49m\u001b[43m(\u001b[49m\u001b[43mpyngrok_config\u001b[49m\u001b[43m)\u001b[49m\n",
      "File \u001b[0;32m~/anaconda3/envs/myenv/lib/python3.9/site-packages/pyngrok/process.py:398\u001b[0m, in \u001b[0;36m_start_process\u001b[0;34m(pyngrok_config)\u001b[0m\n\u001b[1;32m    395\u001b[0m kill_process(pyngrok_config\u001b[38;5;241m.\u001b[39mngrok_path)\n\u001b[1;32m    397\u001b[0m \u001b[38;5;28;01mif\u001b[39;00m ngrok_process\u001b[38;5;241m.\u001b[39mstartup_error \u001b[38;5;129;01mis\u001b[39;00m \u001b[38;5;129;01mnot\u001b[39;00m \u001b[38;5;28;01mNone\u001b[39;00m:\n\u001b[0;32m--> 398\u001b[0m     \u001b[38;5;28;01mraise\u001b[39;00m PyngrokNgrokError(\u001b[38;5;124mf\u001b[39m\u001b[38;5;124m\"\u001b[39m\u001b[38;5;124mThe ngrok process errored on start: \u001b[39m\u001b[38;5;132;01m{\u001b[39;00mngrok_process\u001b[38;5;241m.\u001b[39mstartup_error\u001b[38;5;132;01m}\u001b[39;00m\u001b[38;5;124m.\u001b[39m\u001b[38;5;124m\"\u001b[39m,\n\u001b[1;32m    399\u001b[0m                             ngrok_process\u001b[38;5;241m.\u001b[39mlogs,\n\u001b[1;32m    400\u001b[0m                             ngrok_process\u001b[38;5;241m.\u001b[39mstartup_error)\n\u001b[1;32m    401\u001b[0m \u001b[38;5;28;01melse\u001b[39;00m:\n\u001b[1;32m    402\u001b[0m     \u001b[38;5;28;01mraise\u001b[39;00m PyngrokNgrokError(\u001b[38;5;124m\"\u001b[39m\u001b[38;5;124mThe ngrok process was unable to start.\u001b[39m\u001b[38;5;124m\"\u001b[39m, ngrok_process\u001b[38;5;241m.\u001b[39mlogs)\n",
      "\u001b[0;31mPyngrokNgrokError\u001b[0m: The ngrok process errored on start: authentication failed: Usage of ngrok requires a verified account and authtoken.\\n\\nSign up for an account: https://dashboard.ngrok.com/signup\\nInstall your authtoken: https://dashboard.ngrok.com/get-started/your-authtoken\\r\\n\\r\\nERR_NGROK_4018\\r\\n."
     ]
    }
   ],
   "source": [
    "from pyngrok import ngrok\n",
    "\n",
    "# Set up ngrok\n",
    "public_url = ngrok.connect(5000)\n",
    "print(f\"Public URL: {public_url}\")"
   ]
  },
  {
   "cell_type": "code",
   "execution_count": 7,
   "id": "c353d888-9704-451c-af0d-82b389fd9e1a",
   "metadata": {},
   "outputs": [
    {
     "name": "stdout",
     "output_type": "stream",
     "text": [
      "Requirement already satisfied: tenseal in /home/rs/akshit.aggarwal/anaconda3/envs/myenv/lib/python3.9/site-packages (0.3.15)\n",
      "Note: you may need to restart the kernel to use updated packages.\n"
     ]
    }
   ],
   "source": [
    "pip install tenseal"
   ]
  },
  {
   "cell_type": "code",
   "execution_count": 8,
   "id": "8a2d068a-d8ed-47cf-8946-cd79aa340f2c",
   "metadata": {},
   "outputs": [
    {
     "name": "stdout",
     "output_type": "stream",
     "text": [
      "Requirement already satisfied: numpy in /home/rs/akshit.aggarwal/anaconda3/envs/myenv/lib/python3.9/site-packages (2.0.2)\n",
      "Note: you may need to restart the kernel to use updated packages.\n"
     ]
    }
   ],
   "source": [
    "pip install numpy"
   ]
  },
  {
   "cell_type": "code",
   "execution_count": 9,
   "id": "07efa5ed-98db-4163-a974-58e5b02f9b9c",
   "metadata": {},
   "outputs": [
    {
     "ename": "AttributeError",
     "evalue": "module 'tenseal' has no attribute 'Context'",
     "output_type": "error",
     "traceback": [
      "\u001b[0;31m---------------------------------------------------------------------------\u001b[0m",
      "\u001b[0;31mAttributeError\u001b[0m                            Traceback (most recent call last)",
      "Cell \u001b[0;32mIn[9], line 71\u001b[0m\n\u001b[1;32m     68\u001b[0m     \u001b[38;5;28mprint\u001b[39m(\u001b[38;5;124mf\u001b[39m\u001b[38;5;124m\"\u001b[39m\u001b[38;5;124mThe link at position 5 is: \u001b[39m\u001b[38;5;132;01m{\u001b[39;00mlink_at_position_5\u001b[38;5;132;01m}\u001b[39;00m\u001b[38;5;124m\"\u001b[39m)\n\u001b[1;32m     70\u001b[0m \u001b[38;5;28;01mif\u001b[39;00m \u001b[38;5;18m__name__\u001b[39m \u001b[38;5;241m==\u001b[39m \u001b[38;5;124m\"\u001b[39m\u001b[38;5;124m__main__\u001b[39m\u001b[38;5;124m\"\u001b[39m:\n\u001b[0;32m---> 71\u001b[0m     \u001b[43mmain\u001b[49m\u001b[43m(\u001b[49m\u001b[43m)\u001b[49m\n",
      "Cell \u001b[0;32mIn[9], line 54\u001b[0m, in \u001b[0;36mmain\u001b[0;34m()\u001b[0m\n\u001b[1;32m     51\u001b[0m context \u001b[38;5;241m=\u001b[39m setup_fhe()\n\u001b[1;32m     53\u001b[0m \u001b[38;5;66;03m# Client-side encryption of the query vector\u001b[39;00m\n\u001b[0;32m---> 54\u001b[0m enc_query \u001b[38;5;241m=\u001b[39m \u001b[43mencrypt_query\u001b[49m\u001b[43m(\u001b[49m\u001b[43mcontext\u001b[49m\u001b[43m)\u001b[49m\n\u001b[1;32m     56\u001b[0m \u001b[38;5;66;03m# Server-side mapping of links to numbers\u001b[39;00m\n\u001b[1;32m     57\u001b[0m link_to_num, num_to_link \u001b[38;5;241m=\u001b[39m link_mapping()\n",
      "Cell \u001b[0;32mIn[9], line 17\u001b[0m, in \u001b[0;36mencrypt_query\u001b[0;34m(context)\u001b[0m\n\u001b[1;32m     15\u001b[0m \u001b[38;5;28;01mdef\u001b[39;00m \u001b[38;5;21mencrypt_query\u001b[39m(context):\n\u001b[1;32m     16\u001b[0m     query \u001b[38;5;241m=\u001b[39m [\u001b[38;5;241m0\u001b[39m, \u001b[38;5;241m0\u001b[39m, \u001b[38;5;241m0\u001b[39m, \u001b[38;5;241m0\u001b[39m, \u001b[38;5;241m1\u001b[39m, \u001b[38;5;241m0\u001b[39m, \u001b[38;5;241m0\u001b[39m, \u001b[38;5;241m0\u001b[39m, \u001b[38;5;241m0\u001b[39m, \u001b[38;5;241m0\u001b[39m]\n\u001b[0;32m---> 17\u001b[0m     enc_query \u001b[38;5;241m=\u001b[39m \u001b[43mts\u001b[49m\u001b[38;5;241;43m.\u001b[39;49m\u001b[43mbfv_vector\u001b[49m\u001b[43m(\u001b[49m\u001b[43mcontext\u001b[49m\u001b[43m,\u001b[49m\u001b[43m \u001b[49m\u001b[43mquery\u001b[49m\u001b[43m)\u001b[49m  \u001b[38;5;66;03m# Encrypt the entire query vector as a packed BFV vector\u001b[39;00m\n\u001b[1;32m     18\u001b[0m     \u001b[38;5;28;01mreturn\u001b[39;00m enc_query\n",
      "File \u001b[0;32m~/anaconda3/envs/myenv/lib/python3.9/site-packages/tenseal/__init__.py:86\u001b[0m, in \u001b[0;36mbfv_vector\u001b[0;34m(*args, **kwargs)\u001b[0m\n\u001b[1;32m     84\u001b[0m \u001b[38;5;28;01mdef\u001b[39;00m \u001b[38;5;21mbfv_vector\u001b[39m(\u001b[38;5;241m*\u001b[39margs, \u001b[38;5;241m*\u001b[39m\u001b[38;5;241m*\u001b[39mkwargs) \u001b[38;5;241m-\u001b[39m\u001b[38;5;241m>\u001b[39m BFVVector:\n\u001b[1;32m     85\u001b[0m \u001b[38;5;250m    \u001b[39m\u001b[38;5;124;03m\"\"\"Constructor function for tenseal.BFVVector\"\"\"\u001b[39;00m\n\u001b[0;32m---> 86\u001b[0m     \u001b[38;5;28;01mreturn\u001b[39;00m \u001b[43mBFVVector\u001b[49m\u001b[43m(\u001b[49m\u001b[38;5;241;43m*\u001b[39;49m\u001b[43margs\u001b[49m\u001b[43m,\u001b[49m\u001b[43m \u001b[49m\u001b[38;5;241;43m*\u001b[39;49m\u001b[38;5;241;43m*\u001b[39;49m\u001b[43mkwargs\u001b[49m\u001b[43m)\u001b[49m\n",
      "File \u001b[0;32m~/anaconda3/envs/myenv/lib/python3.9/site-packages/tenseal/tensors/bfvvector.py:28\u001b[0m, in \u001b[0;36mBFVVector.__init__\u001b[0;34m(self, context, vector, data)\u001b[0m\n\u001b[1;32m     25\u001b[0m     \u001b[38;5;28mself\u001b[39m\u001b[38;5;241m.\u001b[39mdata \u001b[38;5;241m=\u001b[39m data\n\u001b[1;32m     26\u001b[0m \u001b[38;5;66;03m# constructing a new object\u001b[39;00m\n\u001b[1;32m     27\u001b[0m \u001b[38;5;28;01melse\u001b[39;00m:\n\u001b[0;32m---> 28\u001b[0m     \u001b[38;5;28;01mif\u001b[39;00m \u001b[38;5;129;01mnot\u001b[39;00m \u001b[38;5;28misinstance\u001b[39m(context, \u001b[43mts\u001b[49m\u001b[38;5;241;43m.\u001b[39;49m\u001b[43mContext\u001b[49m):\n\u001b[1;32m     29\u001b[0m         \u001b[38;5;28;01mraise\u001b[39;00m \u001b[38;5;167;01mTypeError\u001b[39;00m(\u001b[38;5;124m\"\u001b[39m\u001b[38;5;124mcontext must be a tenseal.Context\u001b[39m\u001b[38;5;124m\"\u001b[39m)\n\u001b[1;32m     30\u001b[0m     \u001b[38;5;28;01mif\u001b[39;00m \u001b[38;5;129;01mnot\u001b[39;00m \u001b[38;5;28misinstance\u001b[39m(vector, ts\u001b[38;5;241m.\u001b[39mPlainTensor):\n",
      "\u001b[0;31mAttributeError\u001b[0m: module 'tenseal' has no attribute 'Context'"
     ]
    }
   ],
   "source": [
    "import tenseal as ts\n",
    "\n",
    "# Step 1: Encryption Setup\n",
    "def setup_fhe():\n",
    "    # Create TenSEAL BFV context\n",
    "    context = ts.context(\n",
    "        ts.SCHEME_TYPE.BFV,\n",
    "        poly_modulus_degree=8192,\n",
    "        plain_modulus=1032193\n",
    "    )\n",
    "    context.generate_galois_keys()\n",
    "    return context\n",
    "\n",
    "# Step 2: Client encrypts the query vector\n",
    "def encrypt_query(context):\n",
    "    query = [0, 0, 0, 0, 1, 0, 0, 0, 0, 0]\n",
    "    enc_query = ts.bfv_vector(context, query)  # Encrypt the entire query vector as a packed BFV vector\n",
    "    return enc_query\n",
    "\n",
    "# Step 3: Server maps links to numbers\n",
    "def link_mapping():\n",
    "    links = [\"Link1\", \"Link2\", \"Link3\", \"Link4\", \"Link6\", \"Link5\", \"Link7\", \"Link8\", \"Link9\", \"Link10\"]\n",
    "    link_to_num = {link: i+1 for i, link in enumerate(links)}  # Create a map of links to integers\n",
    "    num_to_link = {i+1: link for i, link in enumerate(links)}  # Create a reverse map of numbers to links\n",
    "    return link_to_num, num_to_link\n",
    "\n",
    "# Step 4: Server encrypts the link mappings (as numbers)\n",
    "def encrypt_links(context, link_to_num):\n",
    "    links_as_numbers = [link_to_num[f\"Link{i+1}\"] for i in range(10)]  # Links mapped to numbers\n",
    "    enc_links = ts.bfv_vector(context, links_as_numbers)  # Encrypt the numbers as a packed vector\n",
    "    return enc_links\n",
    "\n",
    "# Step 5: Server performs homomorphic multiplication\n",
    "def homomorphic_multiplication(enc_query, enc_links):\n",
    "    mult_result = enc_query * enc_links  # Element-wise homomorphic multiplication\n",
    "    return mult_result\n",
    "\n",
    "# Step 6: Client decrypts the result and maps it back to the string link\n",
    "def decrypt_result(context, result, num_to_link):\n",
    "    decrypted = result.decrypt()  # Decrypt the result vector\n",
    "    decrypted_link_num = decrypted[4]  # Get the value at position 5 (index 4 in 0-based indexing)\n",
    "\n",
    "    # Map the decrypted number back to the original link string\n",
    "    link_at_position_5 = num_to_link[decrypted_link_num]\n",
    "\n",
    "    return link_at_position_5\n",
    "\n",
    "# Putting everything together\n",
    "def main():\n",
    "    # Encryption setup\n",
    "    context = setup_fhe()\n",
    "\n",
    "    # Client-side encryption of the query vector\n",
    "    enc_query = encrypt_query(context)\n",
    "\n",
    "    # Server-side mapping of links to numbers\n",
    "    link_to_num, num_to_link = link_mapping()\n",
    "\n",
    "    # Server-side encryption of the mapped links (numbers)\n",
    "    enc_links = encrypt_links(context, link_to_num)\n",
    "\n",
    "    # Server performs homomorphic multiplication\n",
    "    mult_result = homomorphic_multiplication(enc_query, enc_links)\n",
    "\n",
    "    # Client decrypts the result and maps it back to the original link\n",
    "    link_at_position_5 = decrypt_result(context, mult_result, num_to_link)\n",
    "\n",
    "    print(f\"The link at position 5 is: {link_at_position_5}\")\n",
    "\n",
    "if __name__ == \"__main__\":\n",
    "    main()\n",
    "\n"
   ]
  },
  {
   "cell_type": "code",
   "execution_count": null,
   "id": "528e5c39-44e5-486b-8953-4c94b1f2e495",
   "metadata": {},
   "outputs": [],
   "source": []
  }
 ],
 "metadata": {
  "kernelspec": {
   "display_name": "Python 3 (ipykernel)",
   "language": "python",
   "name": "python3"
  },
  "language_info": {
   "codemirror_mode": {
    "name": "ipython",
    "version": 3
   },
   "file_extension": ".py",
   "mimetype": "text/x-python",
   "name": "python",
   "nbconvert_exporter": "python",
   "pygments_lexer": "ipython3",
   "version": "3.9.19"
  }
 },
 "nbformat": 4,
 "nbformat_minor": 5
}
